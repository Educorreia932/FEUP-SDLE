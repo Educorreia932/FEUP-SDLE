{
 "cells": [
  {
   "cell_type": "markdown",
   "metadata": {},
   "source": [
    "## Part 1"
   ]
  },
  {
   "cell_type": "code",
   "execution_count": null,
   "metadata": {},
   "outputs": [],
   "source": [
    "import networkx as nx\n",
    "import numpy as np\n",
    "\n",
    "NODE_AMOUNT = 25\n",
    "\n",
    "G = nx.Graph()\n",
    "\n",
    "for j in range(NODE_AMOUNT):\n",
    "    G.add_node(j)\n",
    "\n",
    "while not nx.is_connected(G):\n",
    "    weights = np.array([degree + 1 for (node, degree) in G.degree()])\n",
    "    weights = weights / np.sum(weights)\n",
    "    \n",
    "    node_start, node_end = np.random.choice(G.nodes, 2, p=weights, replace=False)\n",
    "    \n",
    "    if not G.has_edge(node_start, node_end) and node_start != node_end:\n",
    "        G.add_edge(node_start, node_end)\n",
    "\n",
    "# nx.draw(G) \n",
    "\n",
    "degree_sequence = sorted([d for n, d in G.degree()], reverse=True)\n",
    "plt.bar(*np.unique(degree_sequence, return_counts=True));"
   ]
  },
  {
   "cell_type": "markdown",
   "metadata": {},
   "source": [
    "## Part 2"
   ]
  },
  {
   "cell_type": "code",
   "execution_count": null,
   "metadata": {},
   "outputs": [],
   "source": [
    "import seaborn as sb\n",
    "import pandas as pd\n",
    "import matplotlib.pyplot as plt\n",
    "\n",
    "from collections import OrderedDict\n",
    "\n",
    "NODE_AMOUNT = 500\n",
    "\n",
    "G = nx.Graph()\n",
    "\n",
    "G.add_node(1)\n",
    "\n",
    "for node_start in range(1, NODE_AMOUNT):\n",
    "    weights = np.array([degree + 1 for (node, degree) in G.degree()])\n",
    "    weights = weights / np.sum(weights)\n",
    "\n",
    "    node_end = np.random.choice(G.nodes, 1, p=weights)[0]\n",
    "\n",
    "    if node_start != node_end:\n",
    "        G.add_edge(node_start, node_end)\n",
    "\n",
    "nx.draw(G, node_size=10)"
   ]
  }
 ],
 "metadata": {
  "interpreter": {
   "hash": "63fd5069d213b44bf678585dea6b12cceca9941eaf7f819626cde1f2670de90d"
  },
  "kernelspec": {
   "display_name": "Python 3.9.7 64-bit",
   "language": "python",
   "name": "python3"
  },
  "language_info": {
   "codemirror_mode": {
    "name": "ipython",
    "version": 3
   },
   "file_extension": ".py",
   "mimetype": "text/x-python",
   "name": "python",
   "nbconvert_exporter": "python",
   "pygments_lexer": "ipython3",
   "version": "3.9.7"
  },
  "orig_nbformat": 4
 },
 "nbformat": 4,
 "nbformat_minor": 2
}
